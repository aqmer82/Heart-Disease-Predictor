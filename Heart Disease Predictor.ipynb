{
 "cells": [
  {
   "cell_type": "markdown",
   "id": "3fafebc5",
   "metadata": {},
   "source": [
    "## Python Project BAI 3A"
   ]
  },
  {
   "cell_type": "markdown",
   "id": "2510e4eb",
   "metadata": {},
   "source": [
    "### Project Members\n",
    "#### Aqmer Ijaz 20k-1086\n",
    "#### Affan Zahoor 20k-0142\n",
    "#### Bilal Mamji 20k-1702"
   ]
  },
  {
   "cell_type": "markdown",
   "id": "2d7eeb77",
   "metadata": {},
   "source": [
    "### Cleaning"
   ]
  },
  {
   "cell_type": "code",
   "execution_count": 205,
   "id": "3bcbcb6f",
   "metadata": {},
   "outputs": [],
   "source": [
    "import matplotlib.pyplot as plt\n",
    "import pandas as pd\n",
    "import numpy as np\n",
    "import seaborn as sns\n",
    "import warnings\n",
    "warnings.filterwarnings('ignore')\n",
    "from sklearn.model_selection import train_test_split\n",
    "from sklearn.metrics import classification_report\n",
    "from sklearn.metrics import confusion_matrix\n",
    "from sklearn.metrics import accuracy_score\n",
    "from sklearn.neighbors import KNeighborsClassifier\n",
    "from sklearn.tree import DecisionTreeClassifier\n",
    "from sklearn.naive_bayes import GaussianNB\n",
    "from sklearn import linear_model\n",
    "from sklearn.cluster import KMeans\n",
    "from sklearn.preprocessing import StandardScaler\n",
    "heartd = pd.read_csv(r\"C:\\Users\\Aqmer\\PycharmProjects\\pythonproject\\heart.csv\")\n",
    "extr = heartd['RestingBP'].str.extract(r'^(\\d{3})', expand=False)\n",
    "heartd['RestingBP'] = pd.to_numeric(extr)\n",
    "heartd['RestingBP'] = heartd['RestingBP'].fillna(round(heartd['RestingBP'].mean()))\n",
    "heartd['RestingBP'] = heartd.RestingBP.astype('int64')\n",
    "extr = heartd['Cholesterol'].str.extract(r'^(\\d{3})', expand=False)\n",
    "heartd['Cholesterol'] = pd.to_numeric(extr)\n",
    "heartd['Cholesterol'] = heartd['Cholesterol'].fillna(round(heartd['Cholesterol'].mean()))\n",
    "heartd['Cholesterol'] = heartd.Cholesterol.astype('int64')\n",
    "extr = heartd['Age'].str.extract(r'^(\\d{2})', expand=False)\n",
    "heartd['Age'] = pd.to_numeric(extr)\n",
    "heartd['Age'] = heartd['Age'].fillna(round(heartd['Age'].mean()))\n",
    "heartd['Age'] = heartd.Age.astype('int64')\n",
    "heartd['Sex'].replace({'F' : 0, 'M' : 1}, inplace = True)\n",
    "heartd['ExerciseAngina'].replace({'N' : 0, 'Y' : 1}, inplace = True)\n",
    "heartd['ChestPainType'].replace({'ATA' : 1, 'NAP' : 2, 'ASY' : 3,'TA' : 4}, inplace = True)\n",
    "heartd['RestingECG'].replace({'Normal' : 1, 'ST' : 2, 'LVH' : 3}, inplace = True)\n",
    "heartd['ST_Slope'].replace({'Up' : 1, 'Flat' : 2, 'Down' : 3}, inplace = True)"
   ]
  },
  {
   "cell_type": "markdown",
   "id": "f8579e9e",
   "metadata": {},
   "source": [
    "### Statistics"
   ]
  },
  {
   "cell_type": "code",
   "execution_count": 206,
   "id": "589e2fb0",
   "metadata": {},
   "outputs": [
    {
     "name": "stdout",
     "output_type": "stream",
     "text": [
      "Statistical Data\n",
      "              Age         Sex  ChestPainType   RestingBP  Cholesterol  \\\n",
      "count  918.000000  918.000000     918.000000  918.000000   918.000000   \n",
      "mean    53.544662    0.789760       2.452070  133.088235   244.920479   \n",
      "std      9.413422    0.407701       0.851832   17.383727    53.011091   \n",
      "min     28.000000    0.000000       1.000000  100.000000   100.000000   \n",
      "25%     47.000000    1.000000       2.000000  120.000000   215.000000   \n",
      "50%     54.000000    1.000000       3.000000  130.000000   245.000000   \n",
      "75%     60.000000    1.000000       3.000000  140.000000   267.000000   \n",
      "max     77.000000    1.000000       4.000000  200.000000   603.000000   \n",
      "\n",
      "        FastingBS  RestingECG       MaxHR  ExerciseAngina     Oldpeak  \\\n",
      "count  918.000000  918.000000  918.000000      918.000000  918.000000   \n",
      "mean     0.233115    1.603486  136.809368        0.404139    0.887364   \n",
      "std      0.423046    0.805968   25.460334        0.490992    1.066570   \n",
      "min      0.000000    1.000000   60.000000        0.000000   -2.600000   \n",
      "25%      0.000000    1.000000  120.000000        0.000000    0.000000   \n",
      "50%      0.000000    1.000000  138.000000        0.000000    0.600000   \n",
      "75%      0.000000    2.000000  156.000000        1.000000    1.500000   \n",
      "max      1.000000    3.000000  202.000000        1.000000    6.200000   \n",
      "\n",
      "         ST_Slope  HeartDisease  \n",
      "count  918.000000    918.000000  \n",
      "mean     1.638344      0.553377  \n",
      "std      0.607056      0.497414  \n",
      "min      1.000000      0.000000  \n",
      "25%      1.000000      0.000000  \n",
      "50%      2.000000      1.000000  \n",
      "75%      2.000000      1.000000  \n",
      "max      3.000000      1.000000  \n",
      "\n",
      "\tAge\n",
      "Mean:   \t 53.54466230936819\n",
      "Median: \t 54.0\n",
      "Standard deviation:  9.413421637196885\n",
      "Variance: \t 88.61250691964649\n",
      "Min: \t\t 28\n",
      "Max: \t\t 77\n",
      "\n",
      "\tSex\n",
      "Mean:   \t 0.789760348583878\n",
      "\n",
      "\tRestingBP\n",
      "Mean:   \t 133.08823529411765\n",
      "Median: \t 130.0\n",
      "Standard deviation:  17.383726610332687\n",
      "Variance: \t 302.1939508627887\n",
      "Min: \t\t 100\n",
      "Max: \t\t 200\n",
      "\n",
      "\tCholesterol\n",
      "Mean:   \t 244.92047930283223\n",
      "Median: \t 245.0\n",
      "Standard deviation:  53.01109115229712\n",
      "Variance: \t 2810.175785157154\n",
      "Min: \t\t 100\n",
      "Max: \t\t 603\n",
      "\n",
      "\tFastingBS\n",
      "Mean:   \t 0.23311546840958605\n",
      "\n",
      "\tMaxHR\n",
      "Mean:   \t 136.80936819172112\n",
      "Median: \t 138.0\n",
      "Standard deviation:  25.460334138250293\n",
      "Variance: \t 648.2286144313533\n",
      "Min: \t\t 60\n",
      "Max: \t\t 202\n",
      "\n",
      "\tExerciseAngina\n",
      "Mean:   \t 0.40413943355119825\n",
      "\n",
      "\tOldpeak\n",
      "Mean:   \t 0.8873638344226581\n",
      "\n",
      "\tHeartDisease\n",
      "Mean:   \t 0.5533769063180828\n"
     ]
    }
   ],
   "source": [
    "print(\"Statistical Data\")\n",
    "print(heartd.describe())\n",
    "print(\"\\n\\tAge\")\n",
    "print(\"Mean:   \\t\",heartd['Age'].mean())\n",
    "print(\"Median: \\t\",heartd['Age'].median())\n",
    "print(\"Standard deviation: \",heartd['Age'].std())\n",
    "print(\"Variance: \\t\",heartd['Age'].var())\n",
    "print(\"Min: \\t\\t\",heartd['Age'].min())\n",
    "print(\"Max: \\t\\t\",heartd['Age'].max())\n",
    "\n",
    "print(\"\\n\\tSex\")\n",
    "print(\"Mean:   \\t\",heartd['Sex'].mean())\n",
    "\n",
    "print(\"\\n\\tRestingBP\")\n",
    "print(\"Mean:   \\t\",heartd['RestingBP'].mean())\n",
    "print(\"Median: \\t\",heartd['RestingBP'].median())\n",
    "print(\"Standard deviation: \",heartd['RestingBP'].std())\n",
    "print(\"Variance: \\t\",heartd['RestingBP'].var())\n",
    "print(\"Min: \\t\\t\",heartd['RestingBP'].min())\n",
    "print(\"Max: \\t\\t\",heartd['RestingBP'].max())\n",
    "\n",
    "print(\"\\n\\tCholesterol\")\n",
    "print(\"Mean:   \\t\",heartd['Cholesterol'].mean())\n",
    "print(\"Median: \\t\",heartd['Cholesterol'].median())\n",
    "print(\"Standard deviation: \",heartd['Cholesterol'].std())\n",
    "print(\"Variance: \\t\",heartd['Cholesterol'].var())\n",
    "print(\"Min: \\t\\t\",heartd['Cholesterol'].min())\n",
    "print(\"Max: \\t\\t\",heartd['Cholesterol'].max())\n",
    "\n",
    "print(\"\\n\\tFastingBS\")\n",
    "print(\"Mean:   \\t\",heartd['FastingBS'].mean())\n",
    "\n",
    "print(\"\\n\\tMaxHR\")\n",
    "print(\"Mean:   \\t\",heartd['MaxHR'].mean())\n",
    "print(\"Median: \\t\",heartd['MaxHR'].median())\n",
    "print(\"Standard deviation: \",heartd['MaxHR'].std())\n",
    "print(\"Variance: \\t\",heartd['MaxHR'].var())\n",
    "print(\"Min: \\t\\t\",heartd['MaxHR'].min())\n",
    "print(\"Max: \\t\\t\",heartd['MaxHR'].max())\n",
    "\n",
    "print(\"\\n\\tExerciseAngina\")\n",
    "print(\"Mean:   \\t\",heartd['ExerciseAngina'].mean())\n",
    "\n",
    "print(\"\\n\\tOldpeak\")\n",
    "print(\"Mean:   \\t\",heartd['Oldpeak'].mean())\n",
    "\n",
    "print(\"\\n\\tHeartDisease\")\n",
    "print(\"Mean:   \\t\",heartd['HeartDisease'].mean())"
   ]
  },
  {
   "cell_type": "code",
   "execution_count": 207,
   "id": "7016289d",
   "metadata": {},
   "outputs": [
    {
     "data": {
      "text/html": [
       "<div>\n",
       "<style scoped>\n",
       "    .dataframe tbody tr th:only-of-type {\n",
       "        vertical-align: middle;\n",
       "    }\n",
       "\n",
       "    .dataframe tbody tr th {\n",
       "        vertical-align: top;\n",
       "    }\n",
       "\n",
       "    .dataframe thead th {\n",
       "        text-align: right;\n",
       "    }\n",
       "</style>\n",
       "<table border=\"1\" class=\"dataframe\">\n",
       "  <thead>\n",
       "    <tr style=\"text-align: right;\">\n",
       "      <th></th>\n",
       "      <th></th>\n",
       "      <th>Age</th>\n",
       "      <th>ChestPainType</th>\n",
       "      <th>RestingBP</th>\n",
       "      <th>Cholesterol</th>\n",
       "      <th>FastingBS</th>\n",
       "      <th>RestingECG</th>\n",
       "      <th>MaxHR</th>\n",
       "      <th>ExerciseAngina</th>\n",
       "      <th>Oldpeak</th>\n",
       "      <th>ST_Slope</th>\n",
       "    </tr>\n",
       "    <tr>\n",
       "      <th>HeartDisease</th>\n",
       "      <th>Sex</th>\n",
       "      <th></th>\n",
       "      <th></th>\n",
       "      <th></th>\n",
       "      <th></th>\n",
       "      <th></th>\n",
       "      <th></th>\n",
       "      <th></th>\n",
       "      <th></th>\n",
       "      <th></th>\n",
       "      <th></th>\n",
       "    </tr>\n",
       "  </thead>\n",
       "  <tbody>\n",
       "    <tr>\n",
       "      <th rowspan=\"2\" valign=\"top\">0</th>\n",
       "      <th>0</th>\n",
       "      <td>51.202797</td>\n",
       "      <td>1.951049</td>\n",
       "      <td>129.153846</td>\n",
       "      <td>249.153846</td>\n",
       "      <td>0.069930</td>\n",
       "      <td>1.608392</td>\n",
       "      <td>149.048951</td>\n",
       "      <td>0.111888</td>\n",
       "      <td>0.435664</td>\n",
       "      <td>1.279720</td>\n",
       "    </tr>\n",
       "    <tr>\n",
       "      <th>1</th>\n",
       "      <td>50.295880</td>\n",
       "      <td>2.052434</td>\n",
       "      <td>131.453184</td>\n",
       "      <td>234.419476</td>\n",
       "      <td>0.127341</td>\n",
       "      <td>1.516854</td>\n",
       "      <td>147.670412</td>\n",
       "      <td>0.146067</td>\n",
       "      <td>0.393258</td>\n",
       "      <td>1.250936</td>\n",
       "    </tr>\n",
       "    <tr>\n",
       "      <th rowspan=\"2\" valign=\"top\">1</th>\n",
       "      <th>0</th>\n",
       "      <td>56.300000</td>\n",
       "      <td>2.740000</td>\n",
       "      <td>142.760000</td>\n",
       "      <td>272.340000</td>\n",
       "      <td>0.320000</td>\n",
       "      <td>1.700000</td>\n",
       "      <td>137.820000</td>\n",
       "      <td>0.540000</td>\n",
       "      <td>1.336000</td>\n",
       "      <td>1.980000</td>\n",
       "    </tr>\n",
       "    <tr>\n",
       "      <th>1</th>\n",
       "      <td>55.868996</td>\n",
       "      <td>2.810044</td>\n",
       "      <td>134.213974</td>\n",
       "      <td>246.727074</td>\n",
       "      <td>0.336245</td>\n",
       "      <td>1.641921</td>\n",
       "      <td>126.545852</td>\n",
       "      <td>0.631004</td>\n",
       "      <td>1.267467</td>\n",
       "      <td>1.938865</td>\n",
       "    </tr>\n",
       "  </tbody>\n",
       "</table>\n",
       "</div>"
      ],
      "text/plain": [
       "                        Age  ChestPainType   RestingBP  Cholesterol  \\\n",
       "HeartDisease Sex                                                      \n",
       "0            0    51.202797       1.951049  129.153846   249.153846   \n",
       "             1    50.295880       2.052434  131.453184   234.419476   \n",
       "1            0    56.300000       2.740000  142.760000   272.340000   \n",
       "             1    55.868996       2.810044  134.213974   246.727074   \n",
       "\n",
       "                  FastingBS  RestingECG       MaxHR  ExerciseAngina   Oldpeak  \\\n",
       "HeartDisease Sex                                                                \n",
       "0            0     0.069930    1.608392  149.048951        0.111888  0.435664   \n",
       "             1     0.127341    1.516854  147.670412        0.146067  0.393258   \n",
       "1            0     0.320000    1.700000  137.820000        0.540000  1.336000   \n",
       "             1     0.336245    1.641921  126.545852        0.631004  1.267467   \n",
       "\n",
       "                  ST_Slope  \n",
       "HeartDisease Sex            \n",
       "0            0    1.279720  \n",
       "             1    1.250936  \n",
       "1            0    1.980000  \n",
       "             1    1.938865  "
      ]
     },
     "execution_count": 207,
     "metadata": {},
     "output_type": "execute_result"
    }
   ],
   "source": [
    "heartd.groupby(by=['HeartDisease','Sex']).mean()"
   ]
  },
  {
   "cell_type": "code",
   "execution_count": 208,
   "id": "d9946b4f",
   "metadata": {},
   "outputs": [
    {
     "data": {
      "text/html": [
       "<div>\n",
       "<style scoped>\n",
       "    .dataframe tbody tr th:only-of-type {\n",
       "        vertical-align: middle;\n",
       "    }\n",
       "\n",
       "    .dataframe tbody tr th {\n",
       "        vertical-align: top;\n",
       "    }\n",
       "\n",
       "    .dataframe thead th {\n",
       "        text-align: right;\n",
       "    }\n",
       "</style>\n",
       "<table border=\"1\" class=\"dataframe\">\n",
       "  <thead>\n",
       "    <tr style=\"text-align: right;\">\n",
       "      <th></th>\n",
       "      <th></th>\n",
       "      <th>Age</th>\n",
       "      <th>RestingBP</th>\n",
       "      <th>Cholesterol</th>\n",
       "      <th>FastingBS</th>\n",
       "      <th>RestingECG</th>\n",
       "      <th>MaxHR</th>\n",
       "      <th>ExerciseAngina</th>\n",
       "      <th>Oldpeak</th>\n",
       "      <th>ST_Slope</th>\n",
       "      <th>HeartDisease</th>\n",
       "    </tr>\n",
       "    <tr>\n",
       "      <th>ChestPainType</th>\n",
       "      <th>Sex</th>\n",
       "      <th></th>\n",
       "      <th></th>\n",
       "      <th></th>\n",
       "      <th></th>\n",
       "      <th></th>\n",
       "      <th></th>\n",
       "      <th></th>\n",
       "      <th></th>\n",
       "      <th></th>\n",
       "      <th></th>\n",
       "    </tr>\n",
       "  </thead>\n",
       "  <tbody>\n",
       "    <tr>\n",
       "      <th rowspan=\"2\" valign=\"top\">1</th>\n",
       "      <th>0</th>\n",
       "      <td>2975</td>\n",
       "      <td>7732</td>\n",
       "      <td>15206</td>\n",
       "      <td>5</td>\n",
       "      <td>87</td>\n",
       "      <td>9142</td>\n",
       "      <td>5</td>\n",
       "      <td>18.9</td>\n",
       "      <td>71</td>\n",
       "      <td>4</td>\n",
       "    </tr>\n",
       "    <tr>\n",
       "      <th>1</th>\n",
       "      <td>5569</td>\n",
       "      <td>14945</td>\n",
       "      <td>26829</td>\n",
       "      <td>14</td>\n",
       "      <td>159</td>\n",
       "      <td>16844</td>\n",
       "      <td>12</td>\n",
       "      <td>34.3</td>\n",
       "      <td>140</td>\n",
       "      <td>20</td>\n",
       "    </tr>\n",
       "    <tr>\n",
       "      <th rowspan=\"2\" valign=\"top\">2</th>\n",
       "      <th>0</th>\n",
       "      <td>2816</td>\n",
       "      <td>6890</td>\n",
       "      <td>13262</td>\n",
       "      <td>5</td>\n",
       "      <td>90</td>\n",
       "      <td>7872</td>\n",
       "      <td>5</td>\n",
       "      <td>22.1</td>\n",
       "      <td>73</td>\n",
       "      <td>6</td>\n",
       "    </tr>\n",
       "    <tr>\n",
       "      <th>1</th>\n",
       "      <td>8006</td>\n",
       "      <td>19892</td>\n",
       "      <td>35184</td>\n",
       "      <td>36</td>\n",
       "      <td>240</td>\n",
       "      <td>21205</td>\n",
       "      <td>46</td>\n",
       "      <td>114.9</td>\n",
       "      <td>238</td>\n",
       "      <td>66</td>\n",
       "    </tr>\n",
       "    <tr>\n",
       "      <th rowspan=\"2\" valign=\"top\">3</th>\n",
       "      <th>0</th>\n",
       "      <td>3804</td>\n",
       "      <td>9575</td>\n",
       "      <td>18424</td>\n",
       "      <td>14</td>\n",
       "      <td>124</td>\n",
       "      <td>9739</td>\n",
       "      <td>33</td>\n",
       "      <td>80.8</td>\n",
       "      <td>124</td>\n",
       "      <td>39</td>\n",
       "    </tr>\n",
       "    <tr>\n",
       "      <th>1</th>\n",
       "      <td>23462</td>\n",
       "      <td>56828</td>\n",
       "      <td>105182</td>\n",
       "      <td>127</td>\n",
       "      <td>686</td>\n",
       "      <td>53986</td>\n",
       "      <td>264</td>\n",
       "      <td>495.9</td>\n",
       "      <td>782</td>\n",
       "      <td>353</td>\n",
       "    </tr>\n",
       "    <tr>\n",
       "      <th rowspan=\"2\" valign=\"top\">4</th>\n",
       "      <th>0</th>\n",
       "      <td>542</td>\n",
       "      <td>1410</td>\n",
       "      <td>2354</td>\n",
       "      <td>2</td>\n",
       "      <td>14</td>\n",
       "      <td>1452</td>\n",
       "      <td>0</td>\n",
       "      <td>7.3</td>\n",
       "      <td>14</td>\n",
       "      <td>1</td>\n",
       "    </tr>\n",
       "    <tr>\n",
       "      <th>1</th>\n",
       "      <td>1980</td>\n",
       "      <td>4903</td>\n",
       "      <td>8396</td>\n",
       "      <td>11</td>\n",
       "      <td>72</td>\n",
       "      <td>5351</td>\n",
       "      <td>6</td>\n",
       "      <td>40.4</td>\n",
       "      <td>62</td>\n",
       "      <td>19</td>\n",
       "    </tr>\n",
       "  </tbody>\n",
       "</table>\n",
       "</div>"
      ],
      "text/plain": [
       "                     Age  RestingBP  Cholesterol  FastingBS  RestingECG  \\\n",
       "ChestPainType Sex                                                         \n",
       "1             0     2975       7732        15206          5          87   \n",
       "              1     5569      14945        26829         14         159   \n",
       "2             0     2816       6890        13262          5          90   \n",
       "              1     8006      19892        35184         36         240   \n",
       "3             0     3804       9575        18424         14         124   \n",
       "              1    23462      56828       105182        127         686   \n",
       "4             0      542       1410         2354          2          14   \n",
       "              1     1980       4903         8396         11          72   \n",
       "\n",
       "                   MaxHR  ExerciseAngina  Oldpeak  ST_Slope  HeartDisease  \n",
       "ChestPainType Sex                                                          \n",
       "1             0     9142               5     18.9        71             4  \n",
       "              1    16844              12     34.3       140            20  \n",
       "2             0     7872               5     22.1        73             6  \n",
       "              1    21205              46    114.9       238            66  \n",
       "3             0     9739              33     80.8       124            39  \n",
       "              1    53986             264    495.9       782           353  \n",
       "4             0     1452               0      7.3        14             1  \n",
       "              1     5351               6     40.4        62            19  "
      ]
     },
     "execution_count": 208,
     "metadata": {},
     "output_type": "execute_result"
    }
   ],
   "source": [
    "heartd.groupby(by=['ChestPainType','Sex']).sum()"
   ]
  },
  {
   "cell_type": "code",
   "execution_count": 209,
   "id": "2318341d",
   "metadata": {},
   "outputs": [
    {
     "data": {
      "text/html": [
       "<div>\n",
       "<style scoped>\n",
       "    .dataframe tbody tr th:only-of-type {\n",
       "        vertical-align: middle;\n",
       "    }\n",
       "\n",
       "    .dataframe tbody tr th {\n",
       "        vertical-align: top;\n",
       "    }\n",
       "\n",
       "    .dataframe thead th {\n",
       "        text-align: right;\n",
       "    }\n",
       "</style>\n",
       "<table border=\"1\" class=\"dataframe\">\n",
       "  <thead>\n",
       "    <tr style=\"text-align: right;\">\n",
       "      <th></th>\n",
       "      <th></th>\n",
       "      <th>Age</th>\n",
       "      <th>ChestPainType</th>\n",
       "      <th>RestingBP</th>\n",
       "      <th>Cholesterol</th>\n",
       "      <th>FastingBS</th>\n",
       "      <th>MaxHR</th>\n",
       "      <th>ExerciseAngina</th>\n",
       "      <th>Oldpeak</th>\n",
       "      <th>ST_Slope</th>\n",
       "      <th>HeartDisease</th>\n",
       "    </tr>\n",
       "    <tr>\n",
       "      <th>RestingECG</th>\n",
       "      <th>Sex</th>\n",
       "      <th></th>\n",
       "      <th></th>\n",
       "      <th></th>\n",
       "      <th></th>\n",
       "      <th></th>\n",
       "      <th></th>\n",
       "      <th></th>\n",
       "      <th></th>\n",
       "      <th></th>\n",
       "      <th></th>\n",
       "    </tr>\n",
       "  </thead>\n",
       "  <tbody>\n",
       "    <tr>\n",
       "      <th rowspan=\"2\" valign=\"top\">1</th>\n",
       "      <th>0</th>\n",
       "      <td>6093</td>\n",
       "      <td>246</td>\n",
       "      <td>15622</td>\n",
       "      <td>28909</td>\n",
       "      <td>13</td>\n",
       "      <td>17146</td>\n",
       "      <td>25</td>\n",
       "      <td>66.4</td>\n",
       "      <td>168</td>\n",
       "      <td>29</td>\n",
       "    </tr>\n",
       "    <tr>\n",
       "      <th>1</th>\n",
       "      <td>22499</td>\n",
       "      <td>1063</td>\n",
       "      <td>57046</td>\n",
       "      <td>105390</td>\n",
       "      <td>98</td>\n",
       "      <td>58645</td>\n",
       "      <td>182</td>\n",
       "      <td>367.5</td>\n",
       "      <td>712</td>\n",
       "      <td>256</td>\n",
       "    </tr>\n",
       "    <tr>\n",
       "      <th rowspan=\"2\" valign=\"top\">2</th>\n",
       "      <th>0</th>\n",
       "      <td>1403</td>\n",
       "      <td>61</td>\n",
       "      <td>3653</td>\n",
       "      <td>7010</td>\n",
       "      <td>4</td>\n",
       "      <td>4019</td>\n",
       "      <td>7</td>\n",
       "      <td>13.5</td>\n",
       "      <td>38</td>\n",
       "      <td>7</td>\n",
       "    </tr>\n",
       "    <tr>\n",
       "      <th>1</th>\n",
       "      <td>8590</td>\n",
       "      <td>394</td>\n",
       "      <td>20599</td>\n",
       "      <td>36042</td>\n",
       "      <td>57</td>\n",
       "      <td>18875</td>\n",
       "      <td>84</td>\n",
       "      <td>166.1</td>\n",
       "      <td>267</td>\n",
       "      <td>110</td>\n",
       "    </tr>\n",
       "    <tr>\n",
       "      <th rowspan=\"2\" valign=\"top\">3</th>\n",
       "      <th>0</th>\n",
       "      <td>2641</td>\n",
       "      <td>109</td>\n",
       "      <td>6332</td>\n",
       "      <td>13327</td>\n",
       "      <td>9</td>\n",
       "      <td>7040</td>\n",
       "      <td>11</td>\n",
       "      <td>49.2</td>\n",
       "      <td>76</td>\n",
       "      <td>14</td>\n",
       "    </tr>\n",
       "    <tr>\n",
       "      <th>1</th>\n",
       "      <td>7928</td>\n",
       "      <td>378</td>\n",
       "      <td>18923</td>\n",
       "      <td>34159</td>\n",
       "      <td>33</td>\n",
       "      <td>19866</td>\n",
       "      <td>62</td>\n",
       "      <td>151.9</td>\n",
       "      <td>243</td>\n",
       "      <td>92</td>\n",
       "    </tr>\n",
       "  </tbody>\n",
       "</table>\n",
       "</div>"
      ],
      "text/plain": [
       "                  Age  ChestPainType  RestingBP  Cholesterol  FastingBS  \\\n",
       "RestingECG Sex                                                            \n",
       "1          0     6093            246      15622        28909         13   \n",
       "           1    22499           1063      57046       105390         98   \n",
       "2          0     1403             61       3653         7010          4   \n",
       "           1     8590            394      20599        36042         57   \n",
       "3          0     2641            109       6332        13327          9   \n",
       "           1     7928            378      18923        34159         33   \n",
       "\n",
       "                MaxHR  ExerciseAngina  Oldpeak  ST_Slope  HeartDisease  \n",
       "RestingECG Sex                                                          \n",
       "1          0    17146              25     66.4       168            29  \n",
       "           1    58645             182    367.5       712           256  \n",
       "2          0     4019               7     13.5        38             7  \n",
       "           1    18875              84    166.1       267           110  \n",
       "3          0     7040              11     49.2        76            14  \n",
       "           1    19866              62    151.9       243            92  "
      ]
     },
     "execution_count": 209,
     "metadata": {},
     "output_type": "execute_result"
    }
   ],
   "source": [
    "heartd.groupby(by=['RestingECG','Sex']).sum()"
   ]
  },
  {
   "cell_type": "code",
   "execution_count": 210,
   "id": "d0fe0a69",
   "metadata": {},
   "outputs": [
    {
     "data": {
      "text/html": [
       "<div>\n",
       "<style scoped>\n",
       "    .dataframe tbody tr th:only-of-type {\n",
       "        vertical-align: middle;\n",
       "    }\n",
       "\n",
       "    .dataframe tbody tr th {\n",
       "        vertical-align: top;\n",
       "    }\n",
       "\n",
       "    .dataframe thead th {\n",
       "        text-align: right;\n",
       "    }\n",
       "</style>\n",
       "<table border=\"1\" class=\"dataframe\">\n",
       "  <thead>\n",
       "    <tr style=\"text-align: right;\">\n",
       "      <th></th>\n",
       "      <th></th>\n",
       "      <th>Age</th>\n",
       "      <th>ChestPainType</th>\n",
       "      <th>RestingBP</th>\n",
       "      <th>Cholesterol</th>\n",
       "      <th>RestingECG</th>\n",
       "      <th>MaxHR</th>\n",
       "      <th>ExerciseAngina</th>\n",
       "      <th>Oldpeak</th>\n",
       "      <th>ST_Slope</th>\n",
       "      <th>HeartDisease</th>\n",
       "    </tr>\n",
       "    <tr>\n",
       "      <th>FastingBS</th>\n",
       "      <th>Sex</th>\n",
       "      <th></th>\n",
       "      <th></th>\n",
       "      <th></th>\n",
       "      <th></th>\n",
       "      <th></th>\n",
       "      <th></th>\n",
       "      <th></th>\n",
       "      <th></th>\n",
       "      <th></th>\n",
       "      <th></th>\n",
       "    </tr>\n",
       "  </thead>\n",
       "  <tbody>\n",
       "    <tr>\n",
       "      <th rowspan=\"2\" valign=\"top\">0</th>\n",
       "      <th>0</th>\n",
       "      <td>8665</td>\n",
       "      <td>351</td>\n",
       "      <td>22047</td>\n",
       "      <td>42219</td>\n",
       "      <td>267</td>\n",
       "      <td>24631</td>\n",
       "      <td>34</td>\n",
       "      <td>105.0</td>\n",
       "      <td>240</td>\n",
       "      <td>34</td>\n",
       "    </tr>\n",
       "    <tr>\n",
       "      <th>1</th>\n",
       "      <td>28313</td>\n",
       "      <td>1324</td>\n",
       "      <td>71063</td>\n",
       "      <td>129344</td>\n",
       "      <td>846</td>\n",
       "      <td>72981</td>\n",
       "      <td>239</td>\n",
       "      <td>497.9</td>\n",
       "      <td>872</td>\n",
       "      <td>304</td>\n",
       "    </tr>\n",
       "    <tr>\n",
       "      <th rowspan=\"2\" valign=\"top\">1</th>\n",
       "      <th>0</th>\n",
       "      <td>1472</td>\n",
       "      <td>65</td>\n",
       "      <td>3560</td>\n",
       "      <td>7027</td>\n",
       "      <td>48</td>\n",
       "      <td>3574</td>\n",
       "      <td>9</td>\n",
       "      <td>24.1</td>\n",
       "      <td>42</td>\n",
       "      <td>16</td>\n",
       "    </tr>\n",
       "    <tr>\n",
       "      <th>1</th>\n",
       "      <td>10704</td>\n",
       "      <td>511</td>\n",
       "      <td>25505</td>\n",
       "      <td>46247</td>\n",
       "      <td>311</td>\n",
       "      <td>24405</td>\n",
       "      <td>89</td>\n",
       "      <td>187.6</td>\n",
       "      <td>350</td>\n",
       "      <td>154</td>\n",
       "    </tr>\n",
       "  </tbody>\n",
       "</table>\n",
       "</div>"
      ],
      "text/plain": [
       "                 Age  ChestPainType  RestingBP  Cholesterol  RestingECG  \\\n",
       "FastingBS Sex                                                             \n",
       "0         0     8665            351      22047        42219         267   \n",
       "          1    28313           1324      71063       129344         846   \n",
       "1         0     1472             65       3560         7027          48   \n",
       "          1    10704            511      25505        46247         311   \n",
       "\n",
       "               MaxHR  ExerciseAngina  Oldpeak  ST_Slope  HeartDisease  \n",
       "FastingBS Sex                                                          \n",
       "0         0    24631              34    105.0       240            34  \n",
       "          1    72981             239    497.9       872           304  \n",
       "1         0     3574               9     24.1        42            16  \n",
       "          1    24405              89    187.6       350           154  "
      ]
     },
     "execution_count": 210,
     "metadata": {},
     "output_type": "execute_result"
    }
   ],
   "source": [
    "heartd.groupby(by=['FastingBS','Sex']).sum()"
   ]
  },
  {
   "cell_type": "markdown",
   "id": "16ca38a0",
   "metadata": {},
   "source": [
    "### Graphs"
   ]
  },
  {
   "cell_type": "code",
   "execution_count": 211,
   "id": "8f048fdb",
   "metadata": {
    "scrolled": true
   },
   "outputs": [
    {
     "data": {
      "image/png": "[encoded data removed]",
      "text/plain": [
       "<Figure size 864x432 with 1 Axes>"
      ]
     },
     "metadata": {
      "needs_background": "light"
     },
     "output_type": "display_data"
    }
   ],
   "source": [
    "Age = heartd['Age']\n",
    "Sex = heartd['Sex']\n",
    "RestingBP = heartd['RestingBP']\n",
    "Cholesterol = heartd['Cholesterol']\n",
    "FastingBS = heartd['FastingBS']\n",
    "MaxHR = heartd['MaxHR']\n",
    "ExerciseAngina = heartd['ExerciseAngina']\n",
    "Oldpeak = heartd['Oldpeak']\n",
    "columns1 = [Age,RestingBP,MaxHR]\n",
    "fig, ax = plt.subplots()\n",
    "ax.boxplot(columns1)\n",
    "ax.set_title(\"Age                    RestingBP                 MaxHR\")\n",
    "plt.show()"
   ]
  },
  {
   "cell_type": "code",
   "execution_count": 212,
   "id": "732bdbd5",
   "metadata": {
    "scrolled": true
   },
   "outputs": [
    {
     "data": {
      "image/png": "[encoded data removed]",
      "text/plain": [
       "<Figure size 864x432 with 1 Axes>"
      ]
     },
     "metadata": {
      "needs_background": "light"
     },
     "output_type": "display_data"
    }
   ],
   "source": [
    "fig, ax = plt.subplots()\n",
    "ax.boxplot(Cholesterol)\n",
    "ax.set_title(\"Cholesterol\")\n",
    "plt.show()"
   ]
  },
  {
   "cell_type": "code",
   "execution_count": 213,
   "id": "61c51ee9",
   "metadata": {
    "scrolled": false
   },
   "outputs": [
    {
     "data": {
      "image/png": "[encoded data removed]",
      "text/plain": [
       "<Figure size 864x432 with 1 Axes>"
      ]
     },
     "metadata": {
      "needs_background": "light"
     },
     "output_type": "display_data"
    }
   ],
   "source": [
    "fig, ax = plt.subplots()\n",
    "ax.boxplot(Oldpeak)\n",
    "ax.set_title(\"Oldpeak\")\n",
    "plt.show()"
   ]
  },
  {
   "cell_type": "code",
   "execution_count": 214,
   "id": "e5a6ecb0",
   "metadata": {},
   "outputs": [
    {
     "data": {
      "image/png": "[encoded data removed]",
      "text/plain": [
       "<Figure size 864x432 with 4 Axes>"
      ]
     },
     "metadata": {
      "needs_background": "light"
     },
     "output_type": "display_data"
    }
   ],
   "source": [
    "plt.subplot(1,5,1)\n",
    "sns.countplot(heartd['ChestPainType'],palette='pastel')\n",
    "plt.subplot(1,5,2)\n",
    "sns.countplot(heartd['Sex'],palette='cool')\n",
    "plt.subplot(1,5,3)\n",
    "sns.countplot(heartd['RestingECG'],palette='gnuplot')\n",
    "plt.subplot(1,5,4)\n",
    "sns.countplot(heartd['ExerciseAngina'],palette='Set3')\n",
    "plt.show()"
   ]
  },
  {
   "cell_type": "code",
   "execution_count": 215,
   "id": "95aad1aa",
   "metadata": {},
   "outputs": [
    {
     "data": {
      "text/plain": [
       "<AxesSubplot:xlabel='HeartDisease', ylabel='count'>"
      ]
     },
     "execution_count": 215,
     "metadata": {},
     "output_type": "execute_result"
    },
    {
     "data": {
      "image/png": "[encoded data removed]",
      "text/plain": [
       "<Figure size 864x432 with 1 Axes>"
      ]
     },
     "metadata": {
      "needs_background": "light"
     },
     "output_type": "display_data"
    }
   ],
   "source": [
    "plt.rc('figure', figsize=(12,6))\n",
    "sns.countplot(heartd['HeartDisease'],hue=heartd['Sex'],palette='copper')"
   ]
  },
  {
   "cell_type": "code",
   "execution_count": 216,
   "id": "42d89de4",
   "metadata": {},
   "outputs": [
    {
     "data": {
      "text/plain": [
       "<AxesSubplot:>"
      ]
     },
     "execution_count": 216,
     "metadata": {},
     "output_type": "execute_result"
    },
    {
     "data": {
      "image/png": "[encoded data removed]",
      "text/plain": [
       "<Figure size 864x432 with 2 Axes>"
      ]
     },
     "metadata": {
      "needs_background": "light"
     },
     "output_type": "display_data"
    }
   ],
   "source": [
    "htmap  = heartd.drop(columns=['ChestPainType', 'RestingECG', 'ExerciseAngina','ST_Slope','Sex'], axis=1).set_index('Age')\n",
    "sns.heatmap(htmap.corr(),annot=True)"
   ]
  },
  {
   "cell_type": "markdown",
   "id": "6b474125",
   "metadata": {},
   "source": [
    "### sklearn"
   ]
  },
  {
   "cell_type": "code",
   "execution_count": 217,
   "id": "9c6571e3",
   "metadata": {},
   "outputs": [
    {
     "data": {
      "text/plain": [
       "HeartDisease\n",
       "0    410\n",
       "1    508\n",
       "dtype: int64"
      ]
     },
     "execution_count": 217,
     "metadata": {},
     "output_type": "execute_result"
    }
   ],
   "source": [
    "heartd.groupby('HeartDisease').size()"
   ]
  },
  {
   "cell_type": "code",
   "execution_count": 218,
   "id": "574b357f",
   "metadata": {},
   "outputs": [],
   "source": [
    "array = heartd.values\n",
    "X = array[:,0:12]\n",
    "Y = array[:,11]\n"
   ]
  },
  {
   "cell_type": "code",
   "execution_count": 219,
   "id": "95e1d526",
   "metadata": {},
   "outputs": [
    {
     "name": "stdout",
     "output_type": "stream",
     "text": [
      "X_train:  (550, 12)\n",
      "Y_train :  (550,)\n",
      "X_test :  (368, 12)\n",
      "Y_test :  (368,)\n"
     ]
    }
   ],
   "source": [
    "t_size = 0.40\n",
    "seed = 7         \n",
    "X_train, X_test, Y_train, Y_test = train_test_split(X, Y, test_size=t_size,random_state=seed) \n",
    "print(\"X_train: \", X_train.shape)\n",
    "print(\"Y_train : \", Y_train.shape)\n",
    "print(\"X_test : \", X_test.shape)\n",
    "print(\"Y_test : \", Y_test.shape)"
   ]
  },
  {
   "cell_type": "code",
   "execution_count": 220,
   "id": "07575958",
   "metadata": {},
   "outputs": [
    {
     "name": "stdout",
     "output_type": "stream",
     "text": [
      "0.6739130434782609\n"
     ]
    }
   ],
   "source": [
    "knn = KNeighborsClassifier(n_neighbors=2)\n",
    "knn.fit(X_train, Y_train)\n",
    "predictions = knn.predict(X_test)\n",
    "print((accuracy_score(Y_test, predictions)))"
   ]
  },
  {
   "cell_type": "code",
   "execution_count": 221,
   "id": "1d05f7ad",
   "metadata": {},
   "outputs": [
    {
     "name": "stdout",
     "output_type": "stream",
     "text": [
      "              precision    recall  f1-score   support\n",
      "\n",
      "         0.0       0.63      0.77      0.69       175\n",
      "         1.0       0.74      0.59      0.66       193\n",
      "\n",
      "    accuracy                           0.67       368\n",
      "   macro avg       0.68      0.68      0.67       368\n",
      "weighted avg       0.68      0.67      0.67       368\n",
      "\n",
      "[[134  41]\n",
      " [ 79 114]]\n"
     ]
    }
   ],
   "source": [
    "print((classification_report(Y_test, predictions)))\n",
    "print(confusion_matrix(Y_test, predictions))"
   ]
  },
  {
   "cell_type": "code",
   "execution_count": 222,
   "id": "423e29bb",
   "metadata": {},
   "outputs": [
    {
     "name": "stdout",
     "output_type": "stream",
     "text": [
      "1.0\n"
     ]
    }
   ],
   "source": [
    "dt = DecisionTreeClassifier( criterion='entropy', ccp_alpha = 0.015)\n",
    "dt.fit(X_train, Y_train)    \n",
    "predictions = dt.predict(X_test)\n",
    "print((accuracy_score(Y_test, predictions)))"
   ]
  },
  {
   "cell_type": "code",
   "execution_count": 223,
   "id": "93303fc1",
   "metadata": {},
   "outputs": [
    {
     "name": "stdout",
     "output_type": "stream",
     "text": [
      "1.0\n"
     ]
    }
   ],
   "source": [
    "dt = DecisionTreeClassifier( criterion='gini', ccp_alpha = 0.015)   \n",
    "dt.fit(X_train, Y_train) \n",
    "predictions = dt.predict(X_test) \n",
    "print((accuracy_score(Y_test, predictions)))"
   ]
  },
  {
   "cell_type": "code",
   "execution_count": 224,
   "id": "e6ef9022",
   "metadata": {},
   "outputs": [
    {
     "name": "stdout",
     "output_type": "stream",
     "text": [
      "1.0\n"
     ]
    }
   ],
   "source": [
    "nb = GaussianNB()  \n",
    "nb.fit(X_train, Y_train)     \n",
    "predictions = nb.predict(X_test)  \n",
    "print((accuracy_score(Y_test, predictions)))"
   ]
  },
  {
   "cell_type": "code",
   "execution_count": 225,
   "id": "c403d48d",
   "metadata": {},
   "outputs": [],
   "source": [
    "X = heartd[['Age','Sex','ChestPainType','Cholesterol','RestingBP','FastingBS','RestingECG','Oldpeak','ExerciseAngina','MaxHR','ST_Slope']]\n",
    "Y = heartd['HeartDisease']"
   ]
  },
  {
   "cell_type": "code",
   "execution_count": 226,
   "id": "e0b83524",
   "metadata": {},
   "outputs": [
    {
     "data": {
      "text/plain": [
       "LinearRegression()"
      ]
     },
     "execution_count": 226,
     "metadata": {},
     "output_type": "execute_result"
    }
   ],
   "source": [
    "regr = linear_model.LinearRegression()\n",
    "regr.fit(X, Y)"
   ]
  },
  {
   "cell_type": "code",
   "execution_count": 227,
   "id": "ac177f61",
   "metadata": {},
   "outputs": [
    {
     "name": "stdout",
     "output_type": "stream",
     "text": [
      "[0.5879748]\n"
     ]
    }
   ],
   "source": [
    "predictedHD = regr.predict([[40,1,2,289,1,1,172,1,2,1,1]])\n",
    "print(predictedHD)"
   ]
  },
  {
   "cell_type": "code",
   "execution_count": 229,
   "id": "228667a4",
   "metadata": {},
   "outputs": [],
   "source": [
    "scaler = StandardScaler()\n",
    "data_scaled = scaler.fit_transform(heartd)"
   ]
  },
  {
   "cell_type": "code",
   "execution_count": 230,
   "id": "dfeb7147",
   "metadata": {},
   "outputs": [
    {
     "data": {
      "text/plain": [
       "KMeans(n_clusters=2)"
      ]
     },
     "execution_count": 230,
     "metadata": {},
     "output_type": "execute_result"
    }
   ],
   "source": [
    "kmeans = KMeans(n_clusters=2, init='k-means++')\n",
    "kmeans.fit(data_scaled)"
   ]
  },
  {
   "cell_type": "code",
   "execution_count": 231,
   "id": "a5905ef7",
   "metadata": {},
   "outputs": [
    {
     "data": {
      "text/plain": [
       "8587.658605058856"
      ]
     },
     "execution_count": 231,
     "metadata": {},
     "output_type": "execute_result"
    }
   ],
   "source": [
    "kmeans.inertia_"
   ]
  },
  {
   "cell_type": "code",
   "execution_count": 233,
   "id": "025e2a73",
   "metadata": {},
   "outputs": [
    {
     "data": {
      "text/plain": [
       "Text(0, 0.5, 'Inertia')"
      ]
     },
     "execution_count": 233,
     "metadata": {},
     "output_type": "execute_result"
    },
    {
     "data": {
      "image/png": "[encoded data removed]",
      "text/plain": [
       "<Figure size 864x432 with 1 Axes>"
      ]
     },
     "metadata": {
      "needs_background": "light"
     },
     "output_type": "display_data"
    }
   ],
   "source": [
    "SSE = []   \n",
    "for cluster in range(1,20):\n",
    "    kmeans = KMeans(n_clusters = cluster, init='k-means++')\n",
    "    kmeans.fit(data_scaled)\n",
    "    SSE.append(kmeans.inertia_)\n",
    "\n",
    "frame = pd.DataFrame({'Cluster':range(1,20), 'SSE':SSE})\n",
    "plt.figure(figsize=(12,6))\n",
    "plt.plot(frame['Cluster'], frame['SSE'], marker='o')\n",
    "plt.xlabel('Number of clusters')\n",
    "plt.ylabel('Inertia')"
   ]
  },
  {
   "cell_type": "code",
   "execution_count": 234,
   "id": "f34b75d8",
   "metadata": {},
   "outputs": [],
   "source": [
    "kmeans = KMeans(n_clusters = 5, init='k-means++')\n",
    "kmeans.fit(data_scaled)\n",
    "pred = kmeans.predict(data_scaled)"
   ]
  },
  {
   "cell_type": "code",
   "execution_count": 235,
   "id": "e829f3a9",
   "metadata": {},
   "outputs": [
    {
     "data": {
      "text/plain": [
       "2    260\n",
       "0    173\n",
       "3    165\n",
       "4    165\n",
       "1    155\n",
       "Name: cluster, dtype: int64"
      ]
     },
     "execution_count": 235,
     "metadata": {},
     "output_type": "execute_result"
    }
   ],
   "source": [
    "frame = pd.DataFrame(data_scaled)\n",
    "frame['cluster'] = pred\n",
    "frame['cluster'].value_counts()"
   ]
  }
 ],
 "metadata": {
  "kernelspec": {
   "display_name": "Python 3 (ipykernel)",
   "language": "python",
   "name": "python3"
  },
  "language_info": {
   "codemirror_mode": {
    "name": "ipython",
    "version": 3
   },
   "file_extension": ".py",
   "mimetype": "text/x-python",
   "name": "python",
   "nbconvert_exporter": "python",
   "pygments_lexer": "ipython3",
   "version": "3.9.7"
  }
 },
 "nbformat": 4,
 "nbformat_minor": 5
}
